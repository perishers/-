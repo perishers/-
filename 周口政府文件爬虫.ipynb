{
 "cells": [
  {
   "cell_type": "markdown",
   "id": "ce62fc33",
   "metadata": {},
   "source": [
    "# 周口政策文件链接爬虫"
   ]
  },
  {
   "cell_type": "markdown",
   "id": "f50a6b88",
   "metadata": {},
   "source": [
    "## 定义链接爬虫函数"
   ]
  },
  {
   "cell_type": "code",
   "execution_count": 1,
   "id": "bd5f8628",
   "metadata": {},
   "outputs": [],
   "source": [
    "def zhoukou(url):\n",
    "    header = {'User-Agent':'Mozilla/5.0 (Windows NT 10.0; Win64; x64) AppleWebKit/537.36 (KHTML, like Gecko) Chrome/119.0.0.0 Safari/537.36'}\n",
    "    r = requests.get(url,headers=header)\n",
    "    r.status_code\n",
    "    soup = BeautifulSoup(r.text,'html.parser')\n",
    "    \n",
    "    tables = soup.find(class_ = 'colInfoBox').find_all('div')\n",
    "    titles1 = []\n",
    "    links1 = []\n",
    "    timees = []\n",
    "    for u in tables[1:]:\n",
    "        try:\n",
    "            title = u.find('a')['title']\n",
    "            link = u.find('a')['href']\n",
    "            timee = u.find('font').string\n",
    "            titles1.append(title)\n",
    "            links1.append(link)\n",
    "            timees.append(timee)\n",
    "        except:\n",
    "            pass\n",
    "    return titles1,links1,timees"
   ]
  },
  {
   "cell_type": "markdown",
   "id": "65c00fc3",
   "metadata": {},
   "source": [
    "## 定义连接爬虫函数执行流程"
   ]
  },
  {
   "cell_type": "code",
   "execution_count": 5,
   "id": "44ae603c",
   "metadata": {
    "scrolled": true
   },
   "outputs": [
    {
     "name": "stdout",
     "output_type": "stream",
     "text": [
      "已爬取29页\n"
     ]
    },
    {
     "data": {
      "text/html": [
       "<div>\n",
       "<style scoped>\n",
       "    .dataframe tbody tr th:only-of-type {\n",
       "        vertical-align: middle;\n",
       "    }\n",
       "\n",
       "    .dataframe tbody tr th {\n",
       "        vertical-align: top;\n",
       "    }\n",
       "\n",
       "    .dataframe thead th {\n",
       "        text-align: right;\n",
       "    }\n",
       "</style>\n",
       "<table border=\"1\" class=\"dataframe\">\n",
       "  <thead>\n",
       "    <tr style=\"text-align: right;\">\n",
       "      <th></th>\n",
       "      <th>文件名称</th>\n",
       "      <th>发布时间</th>\n",
       "      <th>链接</th>\n",
       "    </tr>\n",
       "  </thead>\n",
       "  <tbody>\n",
       "    <tr>\n",
       "      <th>0</th>\n",
       "      <td>周口市人民政府关于加快推进气象高质量发展的实施意见</td>\n",
       "      <td>2023-10-27</td>\n",
       "      <td>http://www.zhoukou.gov.cn/page_pc/zwgk/zdxxgk/...</td>\n",
       "    </tr>\n",
       "    <tr>\n",
       "      <th>1</th>\n",
       "      <td>周口市人民政府关于印发周口市国家卫生城市管理办法的通知</td>\n",
       "      <td>2023-09-22</td>\n",
       "      <td>http://www.zhoukou.gov.cn/page_pc/zwgk/zdxxgk/...</td>\n",
       "    </tr>\n",
       "    <tr>\n",
       "      <th>2</th>\n",
       "      <td>周口市人民政府关于印发周口市病媒生物预防控制管理办法的通知</td>\n",
       "      <td>2023-09-22</td>\n",
       "      <td>http://www.zhoukou.gov.cn/page_pc/zwgk/zdxxgk/...</td>\n",
       "    </tr>\n",
       "    <tr>\n",
       "      <th>3</th>\n",
       "      <td>周口市人民政府关于表彰2021—2022年度市长质量奖获奖单位的通报</td>\n",
       "      <td>2023-08-23</td>\n",
       "      <td>http://www.zhoukou.gov.cn/page_pc/zwgk/zdxxgk/...</td>\n",
       "    </tr>\n",
       "    <tr>\n",
       "      <th>4</th>\n",
       "      <td>周口市人民政府关于印发《周口市乡镇专职消防救援队伍管理规定（试行）》的通知</td>\n",
       "      <td>2023-08-21</td>\n",
       "      <td>http://www.zhoukou.gov.cn/page_pc/zwgk/zdxxgk/...</td>\n",
       "    </tr>\n",
       "    <tr>\n",
       "      <th>5</th>\n",
       "      <td>周口市人民政府关于表扬河南省名优农副产品北京展销会（周口专场）筹备工作先进单位和先进个人的通报</td>\n",
       "      <td>2023-08-16</td>\n",
       "      <td>http://www.zhoukou.gov.cn/page_pc/zwgk/zdxxgk/...</td>\n",
       "    </tr>\n",
       "    <tr>\n",
       "      <th>6</th>\n",
       "      <td>周口市人民政府关于印发周口市“十四五”节能减排实施方案的通知</td>\n",
       "      <td>2023-07-21</td>\n",
       "      <td>http://www.zhoukou.gov.cn/page_pc/zwgk/zdxxgk/...</td>\n",
       "    </tr>\n",
       "    <tr>\n",
       "      <th>7</th>\n",
       "      <td>周口市人民政府关于表彰周口市第一届见义勇为模范的决定</td>\n",
       "      <td>2023-07-19</td>\n",
       "      <td>http://www.zhoukou.gov.cn/page_pc/zwgk/zdxxgk/...</td>\n",
       "    </tr>\n",
       "    <tr>\n",
       "      <th>8</th>\n",
       "      <td>周口市人民政府关于印发周口市支持现代物流强市建设若干政策的通知</td>\n",
       "      <td>2023-07-14</td>\n",
       "      <td>http://www.zhoukou.gov.cn/page_pc/zwgk/zdxxgk/...</td>\n",
       "    </tr>\n",
       "    <tr>\n",
       "      <th>9</th>\n",
       "      <td>周口市人民政府关于表彰2021—2022年度周口市社会科学优秀成果的决定</td>\n",
       "      <td>2023-06-02</td>\n",
       "      <td>http://www.zhoukou.gov.cn/page_pc/zwgk/zdxxgk/...</td>\n",
       "    </tr>\n",
       "    <tr>\n",
       "      <th>10</th>\n",
       "      <td>周口市人民政府关于印发加快建设体育周口实施方案的通知</td>\n",
       "      <td>2023-05-22</td>\n",
       "      <td>http://www.zhoukou.gov.cn/page_pc/zwgk/zdxxgk/...</td>\n",
       "    </tr>\n",
       "    <tr>\n",
       "      <th>11</th>\n",
       "      <td>周口市人民政府关于公布市政府规范性文件清理结果的通知</td>\n",
       "      <td>2023-05-20</td>\n",
       "      <td>http://www.zhoukou.gov.cn/page_pc/zwgk/zdxxgk/...</td>\n",
       "    </tr>\n",
       "    <tr>\n",
       "      <th>12</th>\n",
       "      <td>周口市人民政府关于印发周口市“十四五”生态环境保护和生态经济发展规划的通知</td>\n",
       "      <td>2023-04-03</td>\n",
       "      <td>http://www.zhoukou.gov.cn/page_pc/zwgk/zdxxgk/...</td>\n",
       "    </tr>\n",
       "    <tr>\n",
       "      <th>13</th>\n",
       "      <td>周口市人民政府 关于印发周口市商标品牌奖励实施和管理办法的通知</td>\n",
       "      <td>2023-03-10</td>\n",
       "      <td>http://www.zhoukou.gov.cn/page_pc/zwgk/zdxxgk/...</td>\n",
       "    </tr>\n",
       "    <tr>\n",
       "      <th>14</th>\n",
       "      <td>周口市人民政府关于印发周口市专利奖励办法的通知</td>\n",
       "      <td>2023-03-09</td>\n",
       "      <td>http://www.zhoukou.gov.cn/page_pc/zwgk/zdxxgk/...</td>\n",
       "    </tr>\n",
       "    <tr>\n",
       "      <th>15</th>\n",
       "      <td>周口市人民政府关于印发周口市“十四五”教育事业发展规划的通知</td>\n",
       "      <td>2023-03-08</td>\n",
       "      <td>http://www.zhoukou.gov.cn/page_pc/zwgk/zdxxgk/...</td>\n",
       "    </tr>\n",
       "    <tr>\n",
       "      <th>16</th>\n",
       "      <td>周口市人民政府关于做好第五次全国经济普查工作的通知</td>\n",
       "      <td>2023-02-21</td>\n",
       "      <td>http://www.zhoukou.gov.cn/page_pc/zwgk/zdxxgk/...</td>\n",
       "    </tr>\n",
       "    <tr>\n",
       "      <th>17</th>\n",
       "      <td>周口市人民政府关于落实省政府工作报告重点工作任务责任分解的通知</td>\n",
       "      <td>2023-02-17</td>\n",
       "      <td>http://www.zhoukou.gov.cn/page_pc/zwgk/zdxxgk/...</td>\n",
       "    </tr>\n",
       "    <tr>\n",
       "      <th>18</th>\n",
       "      <td>周口市人民政府关于印发周口市“一老一小”整体解决方案的通知</td>\n",
       "      <td>2023-02-15</td>\n",
       "      <td>http://www.zhoukou.gov.cn/page_pc/zwgk/zdxxgk/...</td>\n",
       "    </tr>\n",
       "    <tr>\n",
       "      <th>19</th>\n",
       "      <td>周口市人民政府关于表彰2022年度周口市科学技术进步奖的决定</td>\n",
       "      <td>2023-02-13</td>\n",
       "      <td>http://www.zhoukou.gov.cn/page_pc/zwgk/zdxxgk/...</td>\n",
       "    </tr>\n",
       "    <tr>\n",
       "      <th>20</th>\n",
       "      <td>周口市人民政府关于印发周口市2023年大力提振市场信心促进经济稳定向好政策措施的通知</td>\n",
       "      <td>2023-02-13</td>\n",
       "      <td>http://www.zhoukou.gov.cn/page_pc/zwgk/zdxxgk/...</td>\n",
       "    </tr>\n",
       "    <tr>\n",
       "      <th>21</th>\n",
       "      <td>周口市人民政府关于印发2023年政府工作报告重点工作责任分解的通知</td>\n",
       "      <td>2023-02-08</td>\n",
       "      <td>http://www.zhoukou.gov.cn/page_pc/zwgk/zdxxgk/...</td>\n",
       "    </tr>\n",
       "    <tr>\n",
       "      <th>22</th>\n",
       "      <td>周口市人民政府关于印发周口市实验室建设管理办法 （试行）的通知</td>\n",
       "      <td>2023-01-06</td>\n",
       "      <td>http://www.zhoukou.gov.cn/page_pc/zwgk/zdxxgk/...</td>\n",
       "    </tr>\n",
       "    <tr>\n",
       "      <th>23</th>\n",
       "      <td>周口市人民政府关于印发周口市“十四五”老龄事业发展规划的通知</td>\n",
       "      <td>2022-12-16</td>\n",
       "      <td>http://www.zhoukou.gov.cn/page_pc/zwgk/zdxxgk/...</td>\n",
       "    </tr>\n",
       "    <tr>\n",
       "      <th>24</th>\n",
       "      <td>周口市人民政府关于公布第四批历史建筑保护名录的通知</td>\n",
       "      <td>2022-10-09</td>\n",
       "      <td>http://www.zhoukou.gov.cn/page_pc/zwgk/zdxxgk/...</td>\n",
       "    </tr>\n",
       "    <tr>\n",
       "      <th>25</th>\n",
       "      <td>周口市人民政府关于命名周口市2021年度星级企业和科技型新星企业的决定</td>\n",
       "      <td>2022-10-09</td>\n",
       "      <td>http://www.zhoukou.gov.cn/page_pc/zwgk/zdxxgk/...</td>\n",
       "    </tr>\n",
       "    <tr>\n",
       "      <th>26</th>\n",
       "      <td>周口市人民政府关于印发周口市“十四五”人才发展人力资源开发和就业促进规划的通知</td>\n",
       "      <td>2022-09-23</td>\n",
       "      <td>http://www.zhoukou.gov.cn/page_pc/zwgk/zdxxgk/...</td>\n",
       "    </tr>\n",
       "    <tr>\n",
       "      <th>27</th>\n",
       "      <td>周口市人民政府关于印发周口市妇女发展规划（2021—2030年）和周口市儿童发展规划（202...</td>\n",
       "      <td>2022-08-16</td>\n",
       "      <td>http://www.zhoukou.gov.cn/page_pc/zwgk/zdxxgk/...</td>\n",
       "    </tr>\n",
       "    <tr>\n",
       "      <th>28</th>\n",
       "      <td>周口市人民政府关于印发周口市“十四五”残疾人保障和发展规划的通知</td>\n",
       "      <td>2022-07-08</td>\n",
       "      <td>http://www.zhoukou.gov.cn/page_pc/zwgk/zdxxgk/...</td>\n",
       "    </tr>\n",
       "    <tr>\n",
       "      <th>29</th>\n",
       "      <td>周口市人民政府关于公布第五批市级文物保护单位的通知</td>\n",
       "      <td>2022-06-27</td>\n",
       "      <td>http://www.zhoukou.gov.cn/page_pc/zwgk/zdxxgk/...</td>\n",
       "    </tr>\n",
       "  </tbody>\n",
       "</table>\n",
       "</div>"
      ],
      "text/plain": [
       "                                                 文件名称        发布时间  \\\n",
       "0                           周口市人民政府关于加快推进气象高质量发展的实施意见  2023-10-27   \n",
       "1                         周口市人民政府关于印发周口市国家卫生城市管理办法的通知  2023-09-22   \n",
       "2                       周口市人民政府关于印发周口市病媒生物预防控制管理办法的通知  2023-09-22   \n",
       "3                  周口市人民政府关于表彰2021—2022年度市长质量奖获奖单位的通报  2023-08-23   \n",
       "4               周口市人民政府关于印发《周口市乡镇专职消防救援队伍管理规定（试行）》的通知  2023-08-21   \n",
       "5     周口市人民政府关于表扬河南省名优农副产品北京展销会（周口专场）筹备工作先进单位和先进个人的通报  2023-08-16   \n",
       "6                      周口市人民政府关于印发周口市“十四五”节能减排实施方案的通知  2023-07-21   \n",
       "7                          周口市人民政府关于表彰周口市第一届见义勇为模范的决定  2023-07-19   \n",
       "8                     周口市人民政府关于印发周口市支持现代物流强市建设若干政策的通知  2023-07-14   \n",
       "9                周口市人民政府关于表彰2021—2022年度周口市社会科学优秀成果的决定  2023-06-02   \n",
       "10                         周口市人民政府关于印发加快建设体育周口实施方案的通知  2023-05-22   \n",
       "11                         周口市人民政府关于公布市政府规范性文件清理结果的通知  2023-05-20   \n",
       "12              周口市人民政府关于印发周口市“十四五”生态环境保护和生态经济发展规划的通知  2023-04-03   \n",
       "13                    周口市人民政府 关于印发周口市商标品牌奖励实施和管理办法的通知  2023-03-10   \n",
       "14                            周口市人民政府关于印发周口市专利奖励办法的通知  2023-03-09   \n",
       "15                     周口市人民政府关于印发周口市“十四五”教育事业发展规划的通知  2023-03-08   \n",
       "16                          周口市人民政府关于做好第五次全国经济普查工作的通知  2023-02-21   \n",
       "17                    周口市人民政府关于落实省政府工作报告重点工作任务责任分解的通知  2023-02-17   \n",
       "18                      周口市人民政府关于印发周口市“一老一小”整体解决方案的通知  2023-02-15   \n",
       "19                     周口市人民政府关于表彰2022年度周口市科学技术进步奖的决定  2023-02-13   \n",
       "20         周口市人民政府关于印发周口市2023年大力提振市场信心促进经济稳定向好政策措施的通知  2023-02-13   \n",
       "21                  周口市人民政府关于印发2023年政府工作报告重点工作责任分解的通知  2023-02-08   \n",
       "22                    周口市人民政府关于印发周口市实验室建设管理办法 （试行）的通知  2023-01-06   \n",
       "23                     周口市人民政府关于印发周口市“十四五”老龄事业发展规划的通知  2022-12-16   \n",
       "24                          周口市人民政府关于公布第四批历史建筑保护名录的通知  2022-10-09   \n",
       "25                周口市人民政府关于命名周口市2021年度星级企业和科技型新星企业的决定  2022-10-09   \n",
       "26            周口市人民政府关于印发周口市“十四五”人才发展人力资源开发和就业促进规划的通知  2022-09-23   \n",
       "27  周口市人民政府关于印发周口市妇女发展规划（2021—2030年）和周口市儿童发展规划（202...  2022-08-16   \n",
       "28                   周口市人民政府关于印发周口市“十四五”残疾人保障和发展规划的通知  2022-07-08   \n",
       "29                          周口市人民政府关于公布第五批市级文物保护单位的通知  2022-06-27   \n",
       "\n",
       "                                                   链接  \n",
       "0   http://www.zhoukou.gov.cn/page_pc/zwgk/zdxxgk/...  \n",
       "1   http://www.zhoukou.gov.cn/page_pc/zwgk/zdxxgk/...  \n",
       "2   http://www.zhoukou.gov.cn/page_pc/zwgk/zdxxgk/...  \n",
       "3   http://www.zhoukou.gov.cn/page_pc/zwgk/zdxxgk/...  \n",
       "4   http://www.zhoukou.gov.cn/page_pc/zwgk/zdxxgk/...  \n",
       "5   http://www.zhoukou.gov.cn/page_pc/zwgk/zdxxgk/...  \n",
       "6   http://www.zhoukou.gov.cn/page_pc/zwgk/zdxxgk/...  \n",
       "7   http://www.zhoukou.gov.cn/page_pc/zwgk/zdxxgk/...  \n",
       "8   http://www.zhoukou.gov.cn/page_pc/zwgk/zdxxgk/...  \n",
       "9   http://www.zhoukou.gov.cn/page_pc/zwgk/zdxxgk/...  \n",
       "10  http://www.zhoukou.gov.cn/page_pc/zwgk/zdxxgk/...  \n",
       "11  http://www.zhoukou.gov.cn/page_pc/zwgk/zdxxgk/...  \n",
       "12  http://www.zhoukou.gov.cn/page_pc/zwgk/zdxxgk/...  \n",
       "13  http://www.zhoukou.gov.cn/page_pc/zwgk/zdxxgk/...  \n",
       "14  http://www.zhoukou.gov.cn/page_pc/zwgk/zdxxgk/...  \n",
       "15  http://www.zhoukou.gov.cn/page_pc/zwgk/zdxxgk/...  \n",
       "16  http://www.zhoukou.gov.cn/page_pc/zwgk/zdxxgk/...  \n",
       "17  http://www.zhoukou.gov.cn/page_pc/zwgk/zdxxgk/...  \n",
       "18  http://www.zhoukou.gov.cn/page_pc/zwgk/zdxxgk/...  \n",
       "19  http://www.zhoukou.gov.cn/page_pc/zwgk/zdxxgk/...  \n",
       "20  http://www.zhoukou.gov.cn/page_pc/zwgk/zdxxgk/...  \n",
       "21  http://www.zhoukou.gov.cn/page_pc/zwgk/zdxxgk/...  \n",
       "22  http://www.zhoukou.gov.cn/page_pc/zwgk/zdxxgk/...  \n",
       "23  http://www.zhoukou.gov.cn/page_pc/zwgk/zdxxgk/...  \n",
       "24  http://www.zhoukou.gov.cn/page_pc/zwgk/zdxxgk/...  \n",
       "25  http://www.zhoukou.gov.cn/page_pc/zwgk/zdxxgk/...  \n",
       "26  http://www.zhoukou.gov.cn/page_pc/zwgk/zdxxgk/...  \n",
       "27  http://www.zhoukou.gov.cn/page_pc/zwgk/zdxxgk/...  \n",
       "28  http://www.zhoukou.gov.cn/page_pc/zwgk/zdxxgk/...  \n",
       "29  http://www.zhoukou.gov.cn/page_pc/zwgk/zdxxgk/...  "
      ]
     },
     "execution_count": 5,
     "metadata": {},
     "output_type": "execute_result"
    }
   ],
   "source": [
    "import requests\n",
    "from bs4 import BeautifulSoup\n",
    "import pandas as pd\n",
    "\n",
    "all_titles = []\n",
    "all_links = []\n",
    "all_time = []\n",
    "counter = 0\n",
    "for i in range(1,30):\n",
    "    counter += 1\n",
    "    url = f'http://www.zhoukou.gov.cn/page_pc/zwgk/zdxxgk/zfwj/zz/list{i}.html'\n",
    "    a,b,c = zhoukou(url)\n",
    "    all_titles.extend(a)\n",
    "    all_links.extend(b)\n",
    "    all_time.extend(c)\n",
    "#print(all_titles,all_time,all_links)\n",
    "df = pd.DataFrame()\n",
    "df['文件名称']=all_titles\n",
    "df['发布时间']=all_time\n",
    "df['链接']=all_links\n",
    "df['链接']=[i.replace('/sitesources/','http://www.zhoukou.gov.cn/').replace('zksrmzf/','') for i in df['链接']]\n",
    "print(f'已爬取{counter}页')\n",
    "df.head(30)"
   ]
  },
  {
   "cell_type": "markdown",
   "id": "63b45aec",
   "metadata": {},
   "source": [
    "## 输出结果至excel"
   ]
  },
  {
   "cell_type": "code",
   "execution_count": 109,
   "id": "0c6c7ece",
   "metadata": {},
   "outputs": [],
   "source": [
    "df.to_excel(r'C:\\Users\\15812\\Desktop\\周口政策文件.xlsx')"
   ]
  },
  {
   "cell_type": "code",
   "execution_count": null,
   "id": "120488f6",
   "metadata": {},
   "outputs": [],
   "source": []
  },
  {
   "cell_type": "markdown",
   "id": "8e8af301",
   "metadata": {},
   "source": [
    "# 周口政策文件文本爬虫"
   ]
  },
  {
   "cell_type": "markdown",
   "id": "72757cad",
   "metadata": {},
   "source": [
    "## 定义政策文本爬虫函数"
   ]
  },
  {
   "cell_type": "code",
   "execution_count": 17,
   "id": "2822ad77",
   "metadata": {},
   "outputs": [],
   "source": [
    "def zhoukou_text(url):\n",
    "    header = {'User-Agent':'Mozilla/5.0 (Windows NT 10.0; Win64; x64) AppleWebKit/537.36 (KHTML, like Gecko) Chrome/119.0.0.0 Safari/537.36'}\n",
    "    texts = []\n",
    "    \n",
    "    r = requests.get(url,headers =header)\n",
    "    soup = BeautifulSoup(r.text,'html.parser')\n",
    "    content_lists = soup.find_all('span')\n",
    "    for content_list in content_lists:\n",
    "        text = content_list.string\n",
    "        texts.append(text)\n",
    "    return texts\n"
   ]
  },
  {
   "cell_type": "code",
   "execution_count": null,
   "id": "16a66eb4",
   "metadata": {},
   "outputs": [],
   "source": []
  },
  {
   "cell_type": "markdown",
   "id": "88e80a41",
   "metadata": {},
   "source": [
    "## 定义政策问文本爬虫执行流程"
   ]
  },
  {
   "cell_type": "markdown",
   "id": "9f7be456",
   "metadata": {},
   "source": [
    "### 读取链接目录"
   ]
  },
  {
   "cell_type": "code",
   "execution_count": 21,
   "id": "0188475b",
   "metadata": {},
   "outputs": [],
   "source": [
    "category = pd.read_excel(r\"C:\\Users\\15812\\Desktop\\周口政策文件.xlsx\")\n",
    "urls = category['链接']\n",
    "policys = []\n",
    "for url in urls:\n",
    "    policy = zhoukou_text(url)\n",
    "    policy = policy[6:]\n",
    "    policys.append(policy)\n",
    "category['内容']=policys"
   ]
  },
  {
   "cell_type": "code",
   "execution_count": 22,
   "id": "25732446",
   "metadata": {},
   "outputs": [],
   "source": [
    "category.to_excel(r'C:\\Users\\15812\\Desktop\\周口政策文件_内容.xlsx')"
   ]
  },
  {
   "cell_type": "code",
   "execution_count": null,
   "id": "a65c1499",
   "metadata": {},
   "outputs": [],
   "source": []
  },
  {
   "cell_type": "code",
   "execution_count": null,
   "id": "3d9e7f24",
   "metadata": {},
   "outputs": [],
   "source": []
  },
  {
   "cell_type": "code",
   "execution_count": null,
   "id": "62821291",
   "metadata": {},
   "outputs": [],
   "source": []
  },
  {
   "cell_type": "code",
   "execution_count": null,
   "id": "b852524e",
   "metadata": {},
   "outputs": [],
   "source": []
  },
  {
   "cell_type": "code",
   "execution_count": null,
   "id": "38e7a5a4",
   "metadata": {},
   "outputs": [],
   "source": []
  },
  {
   "cell_type": "code",
   "execution_count": null,
   "id": "31904c98",
   "metadata": {},
   "outputs": [],
   "source": []
  },
  {
   "cell_type": "code",
   "execution_count": null,
   "id": "b67e4751",
   "metadata": {},
   "outputs": [],
   "source": []
  },
  {
   "cell_type": "code",
   "execution_count": null,
   "id": "edd5fbf3",
   "metadata": {},
   "outputs": [],
   "source": []
  },
  {
   "cell_type": "code",
   "execution_count": null,
   "id": "cd7ca487",
   "metadata": {},
   "outputs": [],
   "source": []
  },
  {
   "cell_type": "code",
   "execution_count": null,
   "id": "e794e782",
   "metadata": {},
   "outputs": [],
   "source": []
  },
  {
   "cell_type": "code",
   "execution_count": null,
   "id": "0226f2a4",
   "metadata": {},
   "outputs": [],
   "source": []
  },
  {
   "cell_type": "code",
   "execution_count": null,
   "id": "db835372",
   "metadata": {},
   "outputs": [],
   "source": []
  },
  {
   "cell_type": "code",
   "execution_count": null,
   "id": "dbff875b",
   "metadata": {},
   "outputs": [],
   "source": []
  },
  {
   "cell_type": "code",
   "execution_count": null,
   "id": "5b4bb111",
   "metadata": {},
   "outputs": [],
   "source": []
  },
  {
   "cell_type": "code",
   "execution_count": null,
   "id": "d84c3f89",
   "metadata": {},
   "outputs": [],
   "source": []
  },
  {
   "cell_type": "code",
   "execution_count": null,
   "id": "ec7c13e2",
   "metadata": {},
   "outputs": [],
   "source": []
  },
  {
   "cell_type": "code",
   "execution_count": null,
   "id": "a03fe5b3",
   "metadata": {},
   "outputs": [],
   "source": []
  },
  {
   "cell_type": "code",
   "execution_count": null,
   "id": "6629b6e9",
   "metadata": {},
   "outputs": [],
   "source": []
  },
  {
   "cell_type": "code",
   "execution_count": null,
   "id": "168321cc",
   "metadata": {},
   "outputs": [],
   "source": []
  },
  {
   "cell_type": "code",
   "execution_count": null,
   "id": "3ea478a1",
   "metadata": {},
   "outputs": [],
   "source": []
  }
 ],
 "metadata": {
  "kernelspec": {
   "display_name": "Python [conda env:webcrawler]",
   "language": "python",
   "name": "conda-env-webcrawler-py"
  },
  "language_info": {
   "codemirror_mode": {
    "name": "ipython",
    "version": 3
   },
   "file_extension": ".py",
   "mimetype": "text/x-python",
   "name": "python",
   "nbconvert_exporter": "python",
   "pygments_lexer": "ipython3",
   "version": "3.11.5"
  },
  "toc": {
   "base_numbering": 1,
   "nav_menu": {},
   "number_sections": true,
   "sideBar": true,
   "skip_h1_title": false,
   "title_cell": "Table of Contents",
   "title_sidebar": "Contents",
   "toc_cell": false,
   "toc_position": {
    "height": "calc(100% - 180px)",
    "left": "10px",
    "top": "150px",
    "width": "341.448px"
   },
   "toc_section_display": true,
   "toc_window_display": true
  },
  "varInspector": {
   "cols": {
    "lenName": 16,
    "lenType": 16,
    "lenVar": 40
   },
   "kernels_config": {
    "python": {
     "delete_cmd_postfix": "",
     "delete_cmd_prefix": "del ",
     "library": "var_list.py",
     "varRefreshCmd": "print(var_dic_list())"
    },
    "r": {
     "delete_cmd_postfix": ") ",
     "delete_cmd_prefix": "rm(",
     "library": "var_list.r",
     "varRefreshCmd": "cat(var_dic_list()) "
    }
   },
   "types_to_exclude": [
    "module",
    "function",
    "builtin_function_or_method",
    "instance",
    "_Feature"
   ],
   "window_display": false
  }
 },
 "nbformat": 4,
 "nbformat_minor": 5
}
